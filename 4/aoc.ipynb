{
 "cells": [
  {
   "cell_type": "code",
   "execution_count": 39,
   "metadata": {},
   "outputs": [],
   "source": [
    "f = open(\"input.txt\", \"r\")\n",
    "input = list(f.read().split(\"\\n\"))"
   ]
  },
  {
   "cell_type": "code",
   "execution_count": 48,
   "metadata": {},
   "outputs": [
    {
     "name": "stdout",
     "output_type": "stream",
     "text": [
      "Solution: 24,706\n"
     ]
    }
   ],
   "source": [
    "def parse_split(numbers):\n",
    "    return list(map(int, filter(lambda x: len(x) > 0, numbers.split(\" \"))))\n",
    "\n",
    "def count_winning(card):\n",
    "    card = card[10:]\n",
    "    winners, numbers = card.split(\"|\")\n",
    "    winning_numbers, card_numbers = parse_split(winners), parse_split(numbers)\n",
    "\n",
    "    found_winners = sum([1 if number in winning_numbers else 0 for number in card_numbers])\n",
    "    return found_winners\n",
    "\n",
    "print(f\"Solution: {sum(map(lambda x: 0 if x == 0 else 2**(x - 1), [count_winning(card) for card in input])):,}\")"
   ]
  },
  {
   "cell_type": "code",
   "execution_count": 44,
   "metadata": {},
   "outputs": [
    {
     "name": "stdout",
     "output_type": "stream",
     "text": [
      "Solution: 13,114,317\n"
     ]
    }
   ],
   "source": [
    "num_cards = [1 for _ in input]\n",
    "for i, card in enumerate(input):\n",
    "    for j in range(1, min(count_winning(card) + 1, len(input))):\n",
    "        num_cards[i + j] += num_cards[i]\n",
    "print(f\"Solution: {sum(num_cards):,}\")"
   ]
  }
 ],
 "metadata": {
  "kernelspec": {
   "display_name": "Python 3",
   "language": "python",
   "name": "python3"
  },
  "language_info": {
   "codemirror_mode": {
    "name": "ipython",
    "version": 3
   },
   "file_extension": ".py",
   "mimetype": "text/x-python",
   "name": "python",
   "nbconvert_exporter": "python",
   "pygments_lexer": "ipython3",
   "version": "3.10.11"
  }
 },
 "nbformat": 4,
 "nbformat_minor": 2
}
