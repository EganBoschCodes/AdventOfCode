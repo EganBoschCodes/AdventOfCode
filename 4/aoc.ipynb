{
 "cells": [
  {
   "cell_type": "code",
   "execution_count": 39,
   "metadata": {},
   "outputs": [],
   "source": [
    "f = open(\"input.txt\", \"r\")\n",
    "input = list(f.read().split(\"\\n\"))"
   ]
  },
  {
   "cell_type": "code",
   "execution_count": 42,
   "metadata": {},
   "outputs": [
    {
     "name": "stdout",
     "output_type": "stream",
     "text": [
      "Solution: 24,706\n"
     ]
    }
   ],
   "source": [
    "def parse_split(numbers):\n",
    "    return list(map(int, filter(lambda x: len(x) > 0, numbers.split(\" \"))))\n",
    "\n",
    "def count_winning(card):\n",
    "    card = card[10:]\n",
    "    winners, numbers = card.split(\"|\")\n",
    "    winning_numbers, card_numbers = parse_split(winners), parse_split(numbers)\n",
    "\n",
    "    found_winners = sum([1 if number in winning_numbers else 0 for number in card_numbers])\n",
    "    return found_winners\n",
    "\n",
    "def get_score(card):\n",
    "    winners = count_winning(card)\n",
    "    return 0 if winners == 0 else 2**(winners - 1)\n",
    "\n",
    "def get_score(card):\n",
    "    card = card[10:]\n",
    "    winners, numbers = card.split(\"|\")\n",
    "    winning_numbers, card_numbers = parse_split(winners), parse_split(numbers)\n",
    "\n",
    "    found_winners = sum([1 if number in winning_numbers else 0 for number in card_numbers])\n",
    "    return 0 if found_winners == 0 else 2**(found_winners - 1)\n",
    "\n",
    "print(f\"Solution: {sum([get_score(card) for card in input]):,}\")"
   ]
  },
  {
   "cell_type": "code",
   "execution_count": 41,
   "metadata": {},
   "outputs": [
    {
     "name": "stdout",
     "output_type": "stream",
     "text": [
      "Solution: 13,114,317\n"
     ]
    }
   ],
   "source": [
    "number_of_winners = [count_winning(card) for card in input]\n",
    "num_cards = [1 for _ in input]\n",
    "\n",
    "for i, value in enumerate(num_cards):\n",
    "    winners = number_of_winners[i]\n",
    "    for j in range(1, winners + 1):\n",
    "        if i + j >= len(num_cards):\n",
    "            continue\n",
    "        num_cards[i + j] += num_cards[i]\n",
    "\n",
    "\n",
    "print(f\"Solution: {sum(num_cards):,}\")\n",
    "\n"
   ]
  }
 ],
 "metadata": {
  "kernelspec": {
   "display_name": "Python 3",
   "language": "python",
   "name": "python3"
  },
  "language_info": {
   "codemirror_mode": {
    "name": "ipython",
    "version": 3
   },
   "file_extension": ".py",
   "mimetype": "text/x-python",
   "name": "python",
   "nbconvert_exporter": "python",
   "pygments_lexer": "ipython3",
   "version": "3.10.11"
  }
 },
 "nbformat": 4,
 "nbformat_minor": 2
}
