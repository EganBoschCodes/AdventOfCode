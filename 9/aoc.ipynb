{
 "cells": [
  {
   "cell_type": "code",
   "execution_count": 23,
   "metadata": {},
   "outputs": [],
   "source": [
    "f = open(\"input.txt\", \"r\")\n",
    "input = list(f.read().split(\"\\n\"))\n",
    "\n",
    "def parse_list(s):\n",
    "    return list(map(int, filter(lambda x: len(x) > 0, s.split(\" \"))))\n",
    "\n",
    "inputs = list(map(parse_list, input))"
   ]
  },
  {
   "cell_type": "code",
   "execution_count": 32,
   "metadata": {},
   "outputs": [
    {
     "name": "stdout",
     "output_type": "stream",
     "text": [
      "Solution: 1,819,125,966\n"
     ]
    }
   ],
   "source": [
    "def difference(l):\n",
    "    return [l[i + 1] - l[i] for i in range(len(l) - 1)]\n",
    "\n",
    "def all_same(l):\n",
    "    if len(l) == 1:\n",
    "        return True\n",
    "    return l[0] == l[1] and all_same(l[1:])\n",
    "\n",
    "def rebuild(start, differences):\n",
    "    values = [start]\n",
    "    for diff in differences:\n",
    "        values.append(values[-1] + diff)\n",
    "    return values\n",
    "\n",
    "def predict_value(values):\n",
    "    starters = [values[0]]\n",
    "    while not all_same(values):\n",
    "        values = difference(values)\n",
    "        starters.append(values[0])\n",
    "\n",
    "    values.append(values[0])\n",
    "    starters = reversed(starters[:-1])\n",
    "\n",
    "    for starter in starters:\n",
    "        values = rebuild(starter, values)\n",
    "\n",
    "    return values\n",
    "\n",
    "print(f\"Solution: {sum(map(lambda x: predict_value(x)[-1], inputs)):,}\")\n"
   ]
  },
  {
   "cell_type": "code",
   "execution_count": 35,
   "metadata": {},
   "outputs": [
    {
     "name": "stdout",
     "output_type": "stream",
     "text": [
      "Solution: 1,140\n"
     ]
    }
   ],
   "source": [
    "def rebuild_minus(end, differences):\n",
    "    values = [end]\n",
    "    for diff in reversed(differences):\n",
    "        values.append(values[-1] - diff)\n",
    "    return list(reversed(values))\n",
    "\n",
    "def predict_value_history(values):\n",
    "    enders = [values[-1]]\n",
    "    while not all_same(values):\n",
    "        values = difference(values)\n",
    "        enders.append(values[-1])\n",
    "\n",
    "    values.append(values[0])\n",
    "    enders = reversed(enders[:-1])\n",
    "\n",
    "    for ender in enders:\n",
    "        values = rebuild_minus(ender, values)\n",
    "\n",
    "    return values\n",
    "\n",
    "print(f\"Solution: {sum(map(lambda x: predict_value_history(x)[0], inputs)):,}\")"
   ]
  }
 ],
 "metadata": {
  "kernelspec": {
   "display_name": "Python 3",
   "language": "python",
   "name": "python3"
  },
  "language_info": {
   "codemirror_mode": {
    "name": "ipython",
    "version": 3
   },
   "file_extension": ".py",
   "mimetype": "text/x-python",
   "name": "python",
   "nbconvert_exporter": "python",
   "pygments_lexer": "ipython3",
   "version": "3.10.11"
  }
 },
 "nbformat": 4,
 "nbformat_minor": 2
}
