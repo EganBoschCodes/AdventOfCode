{
 "cells": [
  {
   "cell_type": "code",
   "execution_count": 63,
   "metadata": {},
   "outputs": [],
   "source": [
    "f = open(\"input.txt\", \"r\")\n",
    "input = list(f.read().split(\"\\n\"))"
   ]
  },
  {
   "cell_type": "code",
   "execution_count": 36,
   "metadata": {},
   "outputs": [
    {
     "name": "stdout",
     "output_type": "stream",
     "text": [
      "Solution: 514,969\n"
     ]
    }
   ],
   "source": [
    "rows, columns = len(input), len(input[0])\n",
    "adjacency_matrix = [[False for _ in range(columns)] for _ in range(rows)]\n",
    "\n",
    "def mark_true(i, j):\n",
    "    if input[i][j] == \".\" or adjacency_matrix[i][j]:\n",
    "        return\n",
    "    adjacency_matrix[i][j] = True\n",
    "\n",
    "    for offset_i in range(i - 1, i + 2):\n",
    "        if input[i][j].isdigit() and offset_i != i:\n",
    "            continue\n",
    "        for offset_j in range(j - 1, j + 2):\n",
    "            if offset_i >= 0 and offset_i < rows and offset_j >= 0 and offset_j < columns:\n",
    "                mark_true(offset_i, offset_j)\n",
    "\n",
    "for i in range(rows):\n",
    "    for j in range(columns):\n",
    "        if input[i][j] != \".\" and not input[i][j].isdigit():\n",
    "            mark_true(i, j)\n",
    "\n",
    "cleansed_input = []\n",
    "\n",
    "for i in range(rows):\n",
    "    row_list = list(input[i])\n",
    "    for j in range(columns):\n",
    "        if not adjacency_matrix[i][j] or not input[i][j].isdigit():\n",
    "            row_list[j] = '.'\n",
    "    cleansed_input.append(\"\".join(row_list))\n",
    "\n",
    "output = sum(map(int, filter(lambda x: len(x) > 0, (\".\".join(cleansed_input)).split(\".\"))))\n",
    "\n",
    "print(f\"Solution: {output:,}\")\n"
   ]
  },
  {
   "cell_type": "code",
   "execution_count": 69,
   "metadata": {},
   "outputs": [
    {
     "name": "stdout",
     "output_type": "stream",
     "text": [
      "Solution: 78,915,902\n"
     ]
    }
   ],
   "source": [
    "filtered_input = [[char if char.isdigit() or char == \"*\" else \".\" for char in row] for row in input]\n",
    "\n",
    "number_locations = {}\n",
    "finished_numbers = []\n",
    "\n",
    "number_id, number_accumulator = 0, \"\"\n",
    "\n",
    "for i, row in enumerate(filtered_input):\n",
    "    for j, char in enumerate(row):\n",
    "        if char.isdigit():\n",
    "            number_locations[(i, j)] = number_id\n",
    "            number_accumulator += char\n",
    "        elif len(number_accumulator) > 0:\n",
    "            number_id += 1\n",
    "            finished_numbers.append(int(number_accumulator))\n",
    "            number_accumulator = \"\"\n",
    "\n",
    "    if len(number_accumulator) > 0:\n",
    "        number_id += 1\n",
    "        finished_numbers.append(int(number_accumulator))\n",
    "        number_accumulator = \"\"\n",
    "\n",
    "accumulator = 0\n",
    "for i, row in enumerate(filtered_input):\n",
    "    row_gears = 0\n",
    "    for j, char in enumerate(row):\n",
    "        if char != \"*\":\n",
    "            continue\n",
    "        unique_ids = set()\n",
    "        for i_offset in range(i - 1, i + 2):\n",
    "            for j_offset in range(j - 1, j + 2):\n",
    "                if (i_offset, j_offset) in number_locations:\n",
    "                    unique_ids.add(number_locations[(i_offset, j_offset)])\n",
    "        unique_ids = list(unique_ids)\n",
    "        if len(unique_ids) == 2:\n",
    "            accumulator += finished_numbers[unique_ids[0]] * finished_numbers[unique_ids[1]]\n",
    "            row_gears += 1\n",
    "\n",
    "\n",
    "\n",
    "print(f\"Solution: {accumulator:,}\")\n"
   ]
  }
 ],
 "metadata": {
  "kernelspec": {
   "display_name": "Python 3",
   "language": "python",
   "name": "python3"
  },
  "language_info": {
   "codemirror_mode": {
    "name": "ipython",
    "version": 3
   },
   "file_extension": ".py",
   "mimetype": "text/x-python",
   "name": "python",
   "nbconvert_exporter": "python",
   "pygments_lexer": "ipython3",
   "version": "3.10.11"
  }
 },
 "nbformat": 4,
 "nbformat_minor": 2
}
