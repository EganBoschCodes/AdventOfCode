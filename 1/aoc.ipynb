{
 "cells": [
  {
   "cell_type": "code",
   "execution_count": 2,
   "metadata": {},
   "outputs": [],
   "source": [
    "f = open(\"input.txt\", \"r\")\n",
    "words = f.read().split(\"\\n\")"
   ]
  },
  {
   "cell_type": "code",
   "execution_count": 13,
   "metadata": {},
   "outputs": [
    {
     "name": "stdout",
     "output_type": "stream",
     "text": [
      "[3, 11]\n",
      "53894\n"
     ]
    }
   ],
   "source": [
    "numbers = [c for c in \"0123456789\"]\n",
    "\n",
    "number_words = [\"zero\", \"one\", \"two\", \"three\", \"four\", \"five\", \"six\", \"seven\", \"eight\", \"nine\"]\n",
    "\n",
    "def find_occurences(str, sub):\n",
    "    return [i for i in range(len(str) - len(sub) + 1) if str[i:].startswith(sub)]\n",
    "\n",
    "def filter2(word):\n",
    "    first_index, first_word = len(word), 0\n",
    "    last_index, last_word = -1, 0\n",
    "    \n",
    "    for i, number_word in enumerate(number_words):\n",
    "        occurrences = find_occurences(word, number_word)\n",
    "        if len(occurrences) == 0:\n",
    "            continue\n",
    "        if occurrences[0] < first_index:\n",
    "            first_index, first_word = occurrences[0], i\n",
    "\n",
    "        if occurrences[-1] > last_index:\n",
    "            last_index, last_word = occurrences[-1], i\n",
    "\n",
    "    for i, number_word in enumerate(numbers):\n",
    "        occurrences = find_occurences(word, number_word)\n",
    "        if len(occurrences) == 0:\n",
    "            continue\n",
    "        if occurrences[0] < first_index:\n",
    "            first_index, first_word = occurrences[0], i\n",
    "\n",
    "        if occurrences[-1] > last_index:\n",
    "            last_index, last_word = occurrences[-1], i\n",
    "\n",
    "    return 10 * first_word + last_word\n",
    "\n",
    "print(sum(map(filter2, words)))\n",
    "\n"
   ]
  }
 ],
 "metadata": {
  "kernelspec": {
   "display_name": "Python 3",
   "language": "python",
   "name": "python3"
  },
  "language_info": {
   "codemirror_mode": {
    "name": "ipython",
    "version": 3
   },
   "file_extension": ".py",
   "mimetype": "text/x-python",
   "name": "python",
   "nbconvert_exporter": "python",
   "pygments_lexer": "ipython3",
   "version": "3.8.4"
  }
 },
 "nbformat": 4,
 "nbformat_minor": 2
}
