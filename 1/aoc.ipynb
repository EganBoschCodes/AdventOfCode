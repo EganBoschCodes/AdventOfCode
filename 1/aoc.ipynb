{
 "cells": [
  {
   "cell_type": "code",
   "execution_count": 2,
   "metadata": {},
   "outputs": [],
   "source": [
    "f = open(\"input.txt\", \"r\")\n",
    "words = f.read().split(\"\\n\")"
   ]
  },
  {
   "cell_type": "code",
   "execution_count": 3,
   "metadata": {},
   "outputs": [
    {
     "name": "stdout",
     "output_type": "stream",
     "text": [
      "Solution: 53,651\n"
     ]
    }
   ],
   "source": [
    "# Part 1: Just use the numbers\n",
    "numbers = [c for c in \"0123456789\"]\n",
    "\n",
    "def solve(word):\n",
    "    filtered = [char for char in word if char in numbers]\n",
    "    return int(filtered[0] + filtered[-1])\n",
    "\n",
    "print(f\"Solution: {sum(map(solve, words)):,}\")"
   ]
  },
  {
   "cell_type": "code",
   "execution_count": 5,
   "metadata": {},
   "outputs": [
    {
     "name": "stdout",
     "output_type": "stream",
     "text": [
      "Solution: 53,894\n"
     ]
    }
   ],
   "source": [
    "# Part 2: Also use the words for numbers\n",
    "number_words = [\"zero\", \"one\", \"two\", \"three\", \"four\", \"five\", \"six\", \"seven\", \"eight\", \"nine\"]\n",
    "\n",
    "def find_occurences(str, sub):\n",
    "    return [i for i in range(len(str) - len(sub) + 1) if str[i:].startswith(sub)]\n",
    "\n",
    "def solve(word):\n",
    "    first_index, first_word = len(word), 0\n",
    "    last_index, last_word = -1, 0\n",
    "    \n",
    "    for decision_group in [number_words, numbers]:\n",
    "        for i, number in enumerate(decision_group):\n",
    "            occurrences = find_occurences(word, number)\n",
    "            if len(occurrences) == 0:\n",
    "                continue\n",
    "\n",
    "            if occurrences[0] < first_index:\n",
    "                first_index, first_word = occurrences[0], i\n",
    "            if occurrences[-1] > last_index:\n",
    "                last_index, last_word = occurrences[-1], i\n",
    "\n",
    "    return 10 * first_word + last_word\n",
    "\n",
    "print(f\"Solution: {sum(map(solve, words)):,}\")"
   ]
  }
 ],
 "metadata": {
  "kernelspec": {
   "display_name": "Python 3",
   "language": "python",
   "name": "python3"
  },
  "language_info": {
   "codemirror_mode": {
    "name": "ipython",
    "version": 3
   },
   "file_extension": ".py",
   "mimetype": "text/x-python",
   "name": "python",
   "nbconvert_exporter": "python",
   "pygments_lexer": "ipython3",
   "version": "3.8.4"
  }
 },
 "nbformat": 4,
 "nbformat_minor": 2
}
