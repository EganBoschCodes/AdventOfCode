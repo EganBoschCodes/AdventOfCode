{
 "cells": [
  {
   "cell_type": "code",
   "execution_count": 96,
   "metadata": {},
   "outputs": [],
   "source": [
    "# Read input\n",
    "f = open(\"input.txt\", \"r\")\n",
    "mirror_map = f.read().split(\"\\n\")"
   ]
  },
  {
   "cell_type": "code",
   "execution_count": 97,
   "metadata": {},
   "outputs": [
    {
     "name": "stdout",
     "output_type": "stream",
     "text": [
      "Shifted Stress: 109,661\n"
     ]
    }
   ],
   "source": [
    "def print_map(m):\n",
    "    print(\"\\n\".join(m), \"\\n\")\n",
    "\n",
    "def shift_row(row):\n",
    "    max_solid, row_list = -1, list(row)\n",
    "    for i in range(len(row_list)):\n",
    "        c = row_list[i]\n",
    "        if c == \"#\":\n",
    "            max_solid = i\n",
    "        elif c == \"O\" and max_solid < i:\n",
    "            row_list[i] = \".\"\n",
    "            row_list[max_solid + 1] = \"O\"\n",
    "            max_solid += 1\n",
    "    return \"\".join(row_list)\n",
    "\n",
    "def rev_str(s):\n",
    "    return \"\".join(reversed(s))\n",
    "\n",
    "def column(m, c):\n",
    "    return \"\".join([row[c] for row in m])\n",
    "\n",
    "def transpose(m):\n",
    "    return [column(m, c) for c in range(len(m[0]))]\n",
    "\n",
    "def map_stress(m):\n",
    "    return sum([(len(m) - i) * sum([1 if c == \"O\" else 0 for c in row]) for i, row in enumerate(m)])\n",
    "\n",
    "def rotate_map(m):\n",
    "    return list(reversed([column(m, c) for c in range(len(m[0]))]))\n",
    "\n",
    "def shift_west(m):\n",
    "    return [shift_row(row) for row in m]\n",
    "\n",
    "def shift_north(m):\n",
    "    return transpose(shift_west(transpose(m)))\n",
    "\n",
    "def shift_east(m):\n",
    "    return [rev_str(shift_row(rev_str(row))) for row in m]\n",
    "\n",
    "def shift_south(m):\n",
    "    return transpose(shift_east(transpose(m)))\n",
    "\n",
    "print(f\"Shifted Stress: {map_stress(shift_north(mirror_map)):,}\")\n"
   ]
  },
  {
   "cell_type": "code",
   "execution_count": 98,
   "metadata": {},
   "outputs": [
    {
     "name": "stdout",
     "output_type": "stream",
     "text": [
      "Final Stress: 90,176\n"
     ]
    }
   ],
   "source": [
    "def spin_cycle(m):\n",
    "    return shift_east(shift_south(shift_west(shift_north(m))))\n",
    "\n",
    "map_cache, stresses = [], []\n",
    "while not tuple(mirror_map) in map_cache:\n",
    "    map_cache.append(tuple(mirror_map))\n",
    "    stresses.append(map_stress(mirror_map))\n",
    "    mirror_map = spin_cycle(mirror_map)\n",
    "\n",
    "offset = map_cache.index(tuple(mirror_map))\n",
    "stresses = stresses[offset:]\n",
    "print(f\"Final Stress: {stresses[(1000000000 - offset) % len(stresses)]:,}\")\n"
   ]
  }
 ],
 "metadata": {
  "kernelspec": {
   "display_name": "Python 3",
   "language": "python",
   "name": "python3"
  },
  "language_info": {
   "codemirror_mode": {
    "name": "ipython",
    "version": 3
   },
   "file_extension": ".py",
   "mimetype": "text/x-python",
   "name": "python",
   "nbconvert_exporter": "python",
   "pygments_lexer": "ipython3",
   "version": "3.8.4"
  }
 },
 "nbformat": 4,
 "nbformat_minor": 2
}
