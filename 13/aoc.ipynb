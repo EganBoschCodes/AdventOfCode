{
 "cells": [
  {
   "cell_type": "code",
   "execution_count": 32,
   "metadata": {},
   "outputs": [],
   "source": [
    "# Read input\n",
    "f = open(\"input.txt\", \"r\")\n",
    "data = f.read().split(\"\\n\")\n",
    "maps = [[]]\n",
    "for row in data:\n",
    "    if len(row) == 0:\n",
    "        maps.append([])\n",
    "        continue\n",
    "    maps[-1].append(row)"
   ]
  },
  {
   "cell_type": "code",
   "execution_count": 39,
   "metadata": {},
   "outputs": [
    {
     "name": "stdout",
     "output_type": "stream",
     "text": [
      "Part 1: 30,705\n"
     ]
    }
   ],
   "source": [
    "def column(m, c):\n",
    "    return \"\".join([row[c] for row in m])\n",
    "\n",
    "def transpose(m):\n",
    "    return [column(m, c) for c in range(len(m[0]))]\n",
    "\n",
    "def all_equal(m, rmin, rmax):\n",
    "    if rmin < 0 or rmax >= len(m):\n",
    "        return True\n",
    "    return False if m[rmin] != m[rmax] else all_equal(m, rmin - 1, rmax + 1)\n",
    "\n",
    "def find_reflection(m):\n",
    "    for i in range(len(m) - 1):\n",
    "        if all_equal(m, i, i + 1):\n",
    "            return 100 * (i + 1)\n",
    "    return int(find_reflection(transpose(m)) / 100)\n",
    "\n",
    "print(f\"Part 1: {sum([find_reflection(m) for m in maps]):,}\")"
   ]
  },
  {
   "cell_type": "code",
   "execution_count": 38,
   "metadata": {},
   "outputs": [
    {
     "name": "stdout",
     "output_type": "stream",
     "text": [
      "Part 2: 44,615\n"
     ]
    }
   ],
   "source": [
    "def count_diff(r1, r2):\n",
    "    return sum([1 if c1 != c2 else 0 for (c1, c2) in zip(r1, r2)])\n",
    "\n",
    "def total_diff(m, rmin, rmax):\n",
    "    if rmin < 0 or rmax >= len(m):\n",
    "        return 0\n",
    "    return count_diff(m[rmin], m[rmax]) + total_diff(m, rmin - 1, rmax + 1)\n",
    "\n",
    "def find_error_reflection(m):\n",
    "    for i in range(len(m) - 1):\n",
    "        if total_diff(m, i, i + 1) == 1:\n",
    "            return 100 * (i + 1)\n",
    "    return int(find_error_reflection(transpose(m)) / 100)\n",
    "\n",
    "\n",
    "print(f\"Part 2: {sum([find_error_reflection(m) for m in maps]):,}\")"
   ]
  }
 ],
 "metadata": {
  "kernelspec": {
   "display_name": "Python 3",
   "language": "python",
   "name": "python3"
  },
  "language_info": {
   "codemirror_mode": {
    "name": "ipython",
    "version": 3
   },
   "file_extension": ".py",
   "mimetype": "text/x-python",
   "name": "python",
   "nbconvert_exporter": "python",
   "pygments_lexer": "ipython3",
   "version": "3.8.4"
  }
 },
 "nbformat": 4,
 "nbformat_minor": 2
}
