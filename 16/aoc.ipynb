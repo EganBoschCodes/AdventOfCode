{
 "cells": [
  {
   "cell_type": "code",
   "execution_count": 2,
   "metadata": {},
   "outputs": [],
   "source": [
    "# Read input\n",
    "f = open(\"input.txt\", \"r\")\n",
    "room = f.read().split(\"\\n\")"
   ]
  },
  {
   "cell_type": "code",
   "execution_count": 6,
   "metadata": {},
   "outputs": [
    {
     "name": "stdout",
     "output_type": "stream",
     "text": [
      "Part 1: 7034\n"
     ]
    }
   ],
   "source": [
    "enlightened = [[False for _ in row] for row in room]\n",
    "def light_map(r, c, dr, dc):\n",
    "    enlightened = [[False for _ in row] for row in room]\n",
    "\n",
    "    moves = set()\n",
    "    move_queue = [(r, c, dr, dc)]\n",
    "    def move_beam(r, c, dr, dc):\n",
    "        if r < 0 or r >= len(room) or c < 0 or c >= len(room[0]):\n",
    "            return\n",
    "        \n",
    "        if (r, c, dr, dc) in moves:\n",
    "            return\n",
    "        moves.add((r, c, dr, dc))\n",
    "        enlightened[r][c] = True\n",
    "        current_pos = room[r][c]\n",
    "        if current_pos == \".\":\n",
    "            move_queue.append((r + dr, c + dc, dr, dc))\n",
    "        if current_pos == \"/\":\n",
    "            dr, dc = -dc, -dr\n",
    "            move_queue.append((r + dr, c + dc, dr, dc))\n",
    "        if current_pos == \"\\\\\":\n",
    "            dr, dc = dc, dr\n",
    "            move_queue.append((r + dr, c + dc, dr, dc))\n",
    "\n",
    "        if current_pos == \"|\":\n",
    "            if abs(dr) > 0:\n",
    "                move_queue.append((r + dr, c + dc, dr, dc))\n",
    "            else:\n",
    "                move_queue.append((r + 1, c, 1,  0))\n",
    "                move_queue.append((r - 1, c, -1, 0))\n",
    "        \n",
    "        if current_pos == \"-\":\n",
    "            if abs(dc) > 0:\n",
    "                move_queue.append((r + dr, c + dc, dr, dc))\n",
    "            else:\n",
    "                move_queue.append((r, c + 1, 0, 1))\n",
    "                move_queue.append((r, c - 1, 0, -1))\n",
    "\n",
    "    while len(move_queue) > 0:\n",
    "        move, move_queue = move_queue[0], move_queue[1:]\n",
    "        move_beam(*move)\n",
    "\n",
    "    return sum([sum([1 if v else 0 for v in row]) for row in enlightened])\n",
    "\n",
    "print(f\"Part 1: {light_map(0, 0, 0, 1):,}\")"
   ]
  },
  {
   "cell_type": "code",
   "execution_count": 8,
   "metadata": {},
   "outputs": [
    {
     "name": "stdout",
     "output_type": "stream",
     "text": [
      "Part 2: 7,759\n"
     ]
    }
   ],
   "source": [
    "starting_positions = [(0, c, 1, 0) for c in range(len(room[0]))] + [(len(room) - 1, c, -1, 0) for c in range(len(room[0]))] + [(r, 0, 0, 1) for r in range(len(room))] + [(r, len(room[0]) - 1, 0, -1) for r in range(len(room))]\n",
    "print(f\"Part 2: {max(map(lambda x: light_map(*x), starting_positions)):,}\")"
   ]
  }
 ],
 "metadata": {
  "kernelspec": {
   "display_name": "Python 3",
   "language": "python",
   "name": "python3"
  },
  "language_info": {
   "codemirror_mode": {
    "name": "ipython",
    "version": 3
   },
   "file_extension": ".py",
   "mimetype": "text/x-python",
   "name": "python",
   "nbconvert_exporter": "python",
   "pygments_lexer": "ipython3",
   "version": "3.10.11"
  }
 },
 "nbformat": 4,
 "nbformat_minor": 2
}
