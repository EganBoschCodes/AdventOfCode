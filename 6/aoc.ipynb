{
 "cells": [
  {
   "cell_type": "code",
   "execution_count": 16,
   "metadata": {},
   "outputs": [],
   "source": [
    "f = open(\"input.txt\", \"r\")\n",
    "input = list(f.read().split(\"\\n\"))"
   ]
  },
  {
   "cell_type": "code",
   "execution_count": 28,
   "metadata": {},
   "outputs": [
    {
     "name": "stdout",
     "output_type": "stream",
     "text": [
      "Solution: 440,000\n"
     ]
    }
   ],
   "source": [
    "from math import sqrt, floor, ceil\n",
    "\n",
    "def tie_points(t, r):\n",
    "    return ceil(t / 2 - sqrt(t**2 - 4 * r) / 2), floor(t / 2 + sqrt(t**2 - 4 * r) / 2)\n",
    "\n",
    "def ways_to_win(t, r):\n",
    "    tp = tie_points(t, r)\n",
    "    return max(tp[1] - tp[0] + 1, 0)\n",
    "\n",
    "t_vals = list(map(int, filter(lambda x: len(x) > 0, input[0].split(\" \")[1:])))\n",
    "r_vals = list(map(int, filter(lambda x: len(x) > 0, input[1].split(\" \")[1:])))\n",
    "\n",
    "cumulator = 1\n",
    "for t_val, r_val in zip(t_vals, r_vals):\n",
    "    cumulator *= ways_to_win(t_val, r_val)\n",
    "print(f\"Solution: {cumulator:,}\")"
   ]
  },
  {
   "cell_type": "code",
   "execution_count": 29,
   "metadata": {},
   "outputs": [
    {
     "name": "stdout",
     "output_type": "stream",
     "text": [
      "Solution: 26,187,338\n"
     ]
    }
   ],
   "source": [
    "t_val = int(\"\".join(list(filter(lambda x: len(x) > 0, input[0].split(\" \")[1:]))))\n",
    "r_val = int(\"\".join(filter(lambda x: len(x) > 0, input[1].split(\" \")[1:])))\n",
    "\n",
    "print(f\"Solution: {ways_to_win(t_val, r_val):,}\")"
   ]
  }
 ],
 "metadata": {
  "kernelspec": {
   "display_name": "Python 3",
   "language": "python",
   "name": "python3"
  },
  "language_info": {
   "codemirror_mode": {
    "name": "ipython",
    "version": 3
   },
   "file_extension": ".py",
   "mimetype": "text/x-python",
   "name": "python",
   "nbconvert_exporter": "python",
   "pygments_lexer": "ipython3",
   "version": "3.10.11"
  }
 },
 "nbformat": 4,
 "nbformat_minor": 2
}
