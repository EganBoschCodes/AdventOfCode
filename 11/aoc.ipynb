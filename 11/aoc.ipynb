{
 "cells": [
  {
   "cell_type": "code",
   "execution_count": 47,
   "metadata": {},
   "outputs": [],
   "source": [
    "from itertools import combinations\n",
    "from time import time\n",
    "start_time = time()\n",
    "\n",
    "f = open(\"input.txt\", \"r\")\n",
    "galaxy_map = list(map(list, f.read().split(\"\\n\")))"
   ]
  },
  {
   "cell_type": "code",
   "execution_count": 49,
   "metadata": {},
   "outputs": [
    {
     "name": "stdout",
     "output_type": "stream",
     "text": [
      "Part 1: 10,228,230\n",
      "Part 2: 447,073,334,102\n"
     ]
    }
   ],
   "source": [
    "from itertools import combinations\n",
    "\n",
    "def count(lookup, value):\n",
    "    return sum([1 if v == value else 0 for v in lookup])\n",
    "\n",
    "def num_between(min_val, max_val, lookup):\n",
    "    return count(lookup[lookup.index(min_val):lookup.index(max_val)], \".\")\n",
    "\n",
    "def column(mat, col):\n",
    "    return [row[col] for row in mat]\n",
    "\n",
    "\n",
    "def count_distances(universe, multiplier):\n",
    "    rows, cols = len(universe), len(universe[0])\n",
    "\n",
    "    clear_rows, clear_cols = [r if \"#\" in row else \".\" for r, row in enumerate(universe)], [c if \"#\" in col else \".\" for c, col in enumerate([column(universe, colnum) for colnum in range(cols)])]\n",
    "    galaxy_locations = [(c, r) for c in range(cols) for r in range(rows) if universe[r][c] == '#']\n",
    "\n",
    "    return sum([abs(x1 - x2) + abs(y1 - y2) + (num_between(min(x1, x2), max(x1, x2), clear_cols) + num_between(min(y1, y2), max(y1, y2), clear_rows)) * (multiplier - 1) for (x1, y1), (x2, y2) in combinations(galaxy_locations, 2)])\n",
    "\n",
    "print(f\"Part 1: {count_distances(galaxy_map, 2):,}\")\n",
    "print(f\"Part 2: {count_distances(galaxy_map, 1_000_000):,}\")"
   ]
  }
 ],
 "metadata": {
  "kernelspec": {
   "display_name": "Python 3",
   "language": "python",
   "name": "python3"
  },
  "language_info": {
   "codemirror_mode": {
    "name": "ipython",
    "version": 3
   },
   "file_extension": ".py",
   "mimetype": "text/x-python",
   "name": "python",
   "nbconvert_exporter": "python",
   "pygments_lexer": "ipython3",
   "version": "3.10.11"
  }
 },
 "nbformat": 4,
 "nbformat_minor": 2
}
