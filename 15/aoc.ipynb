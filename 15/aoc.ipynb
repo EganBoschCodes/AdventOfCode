{
 "cells": [
  {
   "cell_type": "code",
   "execution_count": 13,
   "metadata": {},
   "outputs": [],
   "source": [
    "# Read input\n",
    "f = open(\"input.txt\", \"r\")\n",
    "steps = f.read().split(\",\")"
   ]
  },
  {
   "cell_type": "code",
   "execution_count": 14,
   "metadata": {},
   "outputs": [
    {
     "name": "stdout",
     "output_type": "stream",
     "text": [
      "509167\n"
     ]
    }
   ],
   "source": [
    "def HASH(string, val = 0):\n",
    "    if len(string) == 0:\n",
    "        return val\n",
    "    first_char, rest = string[0], string[1:]\n",
    "    val += ord(first_char)\n",
    "    #print(first_char, ord(first_char))\n",
    "    val = (val * 17) % 256\n",
    "    #print(val)\n",
    "    return HASH(rest, val)\n",
    "\n",
    "print(sum([HASH(v) for v in steps]))\n",
    "\n",
    "    "
   ]
  },
  {
   "cell_type": "code",
   "execution_count": 15,
   "metadata": {},
   "outputs": [
    {
     "name": "stdout",
     "output_type": "stream",
     "text": [
      "259333\n"
     ]
    }
   ],
   "source": [
    "hash_map = {}\n",
    "\n",
    "for i in range(256):\n",
    "    hash_map[i] = []\n",
    "\n",
    "def do_minus(label):\n",
    "    old_lenses = [lens for lens in hash_map[HASH(label)] if lens[0] == label]\n",
    "    for lens in old_lenses:\n",
    "        hash_map[HASH(label)].remove(lens)\n",
    "\n",
    "def do_equals(label, lens):\n",
    "    check = [lens[0] == label for lens in hash_map[HASH(label)]]\n",
    "    label_in = any(check)\n",
    "    if not label_in:\n",
    "        hash_map[HASH(label)].append((label, lens))\n",
    "        return\n",
    "    hash_map[HASH(label)][check.index(True)] = (label, lens)\n",
    "\n",
    "for step in steps:\n",
    "    if \"-\" == step[-1]:\n",
    "        do_minus(step[:-1])\n",
    "        continue\n",
    "    label, lens = tuple(step.split(\"=\"))\n",
    "    do_equals(label, int(lens))\n",
    "\n",
    "summation = 0\n",
    "for key in hash_map:\n",
    "    lenses = hash_map[key]\n",
    "    for i, lens in enumerate(lenses):\n",
    "        summation += (key + 1) * (i + 1) * lens[1]\n",
    "\n",
    "print(summation)"
   ]
  }
 ],
 "metadata": {
  "kernelspec": {
   "display_name": "Python 3",
   "language": "python",
   "name": "python3"
  },
  "language_info": {
   "codemirror_mode": {
    "name": "ipython",
    "version": 3
   },
   "file_extension": ".py",
   "mimetype": "text/x-python",
   "name": "python",
   "nbconvert_exporter": "python",
   "pygments_lexer": "ipython3",
   "version": "3.9.13"
  }
 },
 "nbformat": 4,
 "nbformat_minor": 2
}
