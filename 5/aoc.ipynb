{
 "cells": [
  {
   "cell_type": "code",
   "execution_count": 55,
   "metadata": {},
   "outputs": [],
   "source": [
    "f = open(\"input.txt\", \"r\")\n",
    "input = list(f.read().split(\"\\n\"))"
   ]
  },
  {
   "cell_type": "code",
   "execution_count": 69,
   "metadata": {},
   "outputs": [
    {
     "name": "stdout",
     "output_type": "stream",
     "text": [
      "Solution: 51,580,674\n"
     ]
    }
   ],
   "source": [
    "def in_range(x, r):\n",
    "    return x >= r[1] and x < r[1] + r[2]\n",
    "\n",
    "def map_range(x, r):\n",
    "    return r[0] + (x - r[1])\n",
    "\n",
    "def parse_row(row):\n",
    "    return tuple(map(int, filter(lambda x: len(x) > 0, row.split(\" \"))))\n",
    "\n",
    "seed_ids = parse_row(input[0][6:])\n",
    "\n",
    "split_inputs = []\n",
    "input_copy = input[2:]\n",
    "\n",
    "while \"\" in input_copy:\n",
    "    index = input_copy.index(\"\")\n",
    "    split_inputs.append(list(map(parse_row, input_copy[1:index])))\n",
    "    input_copy = input_copy[index + 1:]\n",
    "split_inputs.append(list(map(parse_row, input_copy[1:])))\n",
    "\n",
    "def map_seed(seed_id):\n",
    "    for ranges in split_inputs:\n",
    "        for range_group in ranges:\n",
    "            if in_range(seed_id, range_group):\n",
    "                seed_id = map_range(seed_id, range_group)\n",
    "                break\n",
    "\n",
    "    return seed_id\n",
    "\n",
    "\n",
    "print(f\"Solution: {min(list(map(map_seed, seed_ids))):,}\")\n"
   ]
  },
  {
   "cell_type": "code",
   "execution_count": 67,
   "metadata": {},
   "outputs": [
    {
     "name": "stdout",
     "output_type": "stream",
     "text": [
      "Solution: 99,751,240\n"
     ]
    }
   ],
   "source": [
    "def do_range_overlap(input_range, test_range):\n",
    "    min_input, max_input = input_range[0], input_range[1]\n",
    "    min_test, max_test = test_range[1], test_range[1] + test_range[2] - 1\n",
    "\n",
    "    return min_input <= max_test and max_input >= min_test\n",
    "\n",
    "def find_range_overlap(input_range, test_range):\n",
    "    if not do_range_overlap(input_range, test_range):\n",
    "        return [input_range], None\n",
    "    \n",
    "    min_input, max_input = input_range[0], input_range[1]\n",
    "    min_test, max_test = test_range[1], test_range[1] + test_range[2] - 1\n",
    "\n",
    "    overlap = max(min_input, min_test), min(max_input, max_test)\n",
    "\n",
    "    remaining = []\n",
    "    if min_input < overlap[0]:\n",
    "        remaining.append((min_input, overlap[0] - 1))\n",
    "    if max_input > overlap[1]:\n",
    "        remaining.append((overlap[1] + 1, max_input))\n",
    "\n",
    "    return remaining, (overlap[0] - min_test + test_range[0], overlap[1] - min_test + test_range[0])\n",
    "\n",
    "def map_ranges(input_ranges, test_ranges, output_ranges):\n",
    "    if len(test_ranges) == 0:\n",
    "        return input_ranges + output_ranges\n",
    "    \n",
    "    test_range, test_ranges = test_ranges[0], test_ranges[1:]\n",
    "    new_input_ranges, new_output_ranges = [], []\n",
    "    for input_range in input_ranges:\n",
    "        new_input_range, new_output_range = find_range_overlap(input_range, test_range)\n",
    "        new_input_ranges += new_input_range\n",
    "        if not new_output_range is None:\n",
    "            new_output_ranges.append(new_output_range)\n",
    "\n",
    "    return map_ranges(new_input_ranges, test_ranges, output_ranges + new_output_ranges)\n",
    "\n",
    "def GetSolution():\n",
    "    starting_ranges = []\n",
    "    for i in range(0, len(seed_ids), 2):\n",
    "        starting_ranges.append((seed_ids[i], seed_ids[i] + seed_ids[i+1] - 1))\n",
    "\n",
    "    for split_input in split_inputs:\n",
    "        starting_ranges = map_ranges(starting_ranges, split_input, [])\n",
    "\n",
    "    return min([min_index for min_index, _ in starting_ranges])\n",
    "print(f\"Solution: {GetSolution():,}\")"
   ]
  },
  {
   "cell_type": "code",
   "execution_count": 66,
   "metadata": {},
   "outputs": [
    {
     "name": "stdout",
     "output_type": "stream",
     "text": [
      "1.26 ms ± 17.4 µs per loop (mean ± std. dev. of 7 runs, 1,000 loops each)\n"
     ]
    }
   ],
   "source": [
    "%timeit GetSolution()"
   ]
  }
 ],
 "metadata": {
  "kernelspec": {
   "display_name": "Python 3",
   "language": "python",
   "name": "python3"
  },
  "language_info": {
   "codemirror_mode": {
    "name": "ipython",
    "version": 3
   },
   "file_extension": ".py",
   "mimetype": "text/x-python",
   "name": "python",
   "nbconvert_exporter": "python",
   "pygments_lexer": "ipython3",
   "version": "3.10.11"
  }
 },
 "nbformat": 4,
 "nbformat_minor": 2
}
