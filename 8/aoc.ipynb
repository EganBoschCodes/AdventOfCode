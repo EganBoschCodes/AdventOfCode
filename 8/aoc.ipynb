{
 "cells": [
  {
   "cell_type": "code",
   "execution_count": 56,
   "metadata": {},
   "outputs": [],
   "source": [
    "f = open(\"input.txt\", \"r\")\n",
    "input = list(f.read().split(\"\\n\"))\n",
    "\n",
    "stepper, input = input[0], input[2:]"
   ]
  },
  {
   "cell_type": "code",
   "execution_count": 57,
   "metadata": {},
   "outputs": [
    {
     "name": "stdout",
     "output_type": "stream",
     "text": [
      "Solution: 12,361\n"
     ]
    }
   ],
   "source": [
    "locations = {}\n",
    "\n",
    "for val in input:\n",
    "    locations[val[:3]] = val[7:10], val[12:15]\n",
    "\n",
    "curr_location, total_steps = \"AAA\", 0\n",
    "\n",
    "while curr_location != \"ZZZ\":\n",
    "    curr_char = stepper[total_steps % len(stepper)]\n",
    "    curr_location = locations[curr_location][0] if curr_char == \"L\" else locations[curr_location][1]\n",
    "    total_steps += 1\n",
    "\n",
    "print(f\"Solution: {total_steps:,}\")\n"
   ]
  },
  {
   "cell_type": "code",
   "execution_count": 62,
   "metadata": {},
   "outputs": [
    {
     "name": "stdout",
     "output_type": "stream",
     "text": [
      "Prime Factors: [263, 79, 73, 71, 61, 47, 59]\n",
      "Solution: 18,215,611,419,223\n"
     ]
    }
   ],
   "source": [
    "from functools import partial\n",
    "\n",
    "beginning_steps = [key for key in locations if key[2] == \"A\"]\n",
    "\n",
    "def step_char(location, instruction = \"L\"):\n",
    "    return locations[location][0] if instruction == \"L\" else locations[location][1]\n",
    "\n",
    "def is_finish(location):\n",
    "    return location[2] == \"Z\"\n",
    "\n",
    "solution_indices = []\n",
    "for _ in beginning_steps:\n",
    "    solution_indices.append([])\n",
    "\n",
    "total_steps = 0\n",
    "while min([len(difference) for difference in solution_indices]) < 2:\n",
    "    step = partial(step_char, instruction = stepper[total_steps % len(stepper)])\n",
    "    beginning_steps = list(map(step, beginning_steps))\n",
    "\n",
    "    for i, location in enumerate(beginning_steps):\n",
    "        if is_finish(location):\n",
    "            solution_indices[i].append(total_steps)\n",
    "\n",
    "    total_steps += 1\n",
    "\n",
    "cycle_size = [values[1] - values[0] for values in solution_indices]\n",
    "\n",
    "def product(l):\n",
    "    if len(l) == 1:\n",
    "        return l[0]\n",
    "    return l[0] * product(l[1:])\n",
    "\n",
    "def least_prime(n):\n",
    "    for i in range(2, int(n**0.5) + 1):\n",
    "        if n % i == 0:\n",
    "            return i, int(n / i)\n",
    "    return n, 1\n",
    "\n",
    "def prime_factorize(n):\n",
    "    smallest_factor, remaining = least_prime(n)\n",
    "    prime_factors = [smallest_factor]\n",
    "    while remaining > 1:\n",
    "        smallest_factor, remaining = least_prime(remaining)\n",
    "        prime_factors.append(smallest_factor)\n",
    "    return prime_factors\n",
    "\n",
    "def count(l, v):\n",
    "    return sum([1 if n == v else 0 for n in l])\n",
    "\n",
    "def lcm(l):\n",
    "    total_factors = []\n",
    "    for factor_group in map(prime_factorize, l):\n",
    "        unique_factors = set(factor_group)\n",
    "        for unique_factor in unique_factors:\n",
    "            while count(total_factors, unique_factor) < count(factor_group, unique_factor):\n",
    "                total_factors.append(unique_factor)\n",
    "\n",
    "    print(f\"Prime Factors: {total_factors}\")\n",
    "    return product(total_factors)\n",
    "\n",
    "print(f\"Solution: {lcm(cycle_size):,}\")\n"
   ]
  }
 ],
 "metadata": {
  "kernelspec": {
   "display_name": "Python 3",
   "language": "python",
   "name": "python3"
  },
  "language_info": {
   "codemirror_mode": {
    "name": "ipython",
    "version": 3
   },
   "file_extension": ".py",
   "mimetype": "text/x-python",
   "name": "python",
   "nbconvert_exporter": "python",
   "pygments_lexer": "ipython3",
   "version": "3.10.11"
  }
 },
 "nbformat": 4,
 "nbformat_minor": 2
}
